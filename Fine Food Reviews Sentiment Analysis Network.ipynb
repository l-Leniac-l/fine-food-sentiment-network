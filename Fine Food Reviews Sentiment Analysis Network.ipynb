{
 "cells": [
  {
   "cell_type": "markdown",
   "metadata": {},
   "source": [
    "# [EN] Amazon Fine Food Reviews - Sentiment Analysis Network\n",
    "\n",
    "We'll build a neural network from skratch to learn from Amazon's Fine Food Reviews public dataset.\n",
    "\n",
    "Some important concepts will be apllied:\n",
    "+ Bag of Words and Word2Vec\n",
    "+ Model Validation\n",
    "+ Noise Reduction\n",
    "+ Stochastic Gradient Descent\n",
    "\n",
    "The dataset can be found here: [kaggle](https://www.kaggle.com/snap/amazon-fine-food-reviews)"
   ]
  },
  {
   "cell_type": "markdown",
   "metadata": {},
   "source": [
    "# [PT] Rede Neural de Análise de Sentimento - Amazon Fine Food Reviews\n",
    "Vamos criar uma rede neural do zero que aprenderá através do dataset público de reviews de comidas finas da Amazon.\n",
    "\n",
    "Abordaremos alguns conceitos importantes:\n",
    "+ Bag of Words e Word2Vec\n",
    "+ Validação de Modelos\n",
    "+ Redução de Ruído\n",
    "+ Stochastic Gradient Descent\n",
    "\n",
    "O dataset pode ser encontrado aqui: [kaggle](https://www.kaggle.com/snap/amazon-fine-food-reviews)"
   ]
  },
  {
   "cell_type": "markdown",
   "metadata": {},
   "source": [
    "# [EN] Curating the dataset\n",
    "First of all we need to improve our dataset, to make our life easier.\n",
    "We'll use the `csv` version of the dataset, with the following indexes:\n",
    "+ **Id**\n",
    "+ **ProductId** - unique identifier for the product\n",
    "+ **UserId** - unqiue identifier for the user\n",
    "+ **ProfileName**\n",
    "+ **HelpfulnessNumerator** - number of users who found the review helpful\n",
    "+ **HelpfulnessDenominator** - number of users who indicated whether they found the review helpful\n",
    "+ **Score** - rating between 1 and 5\n",
    "+ **Time** - timestamp for the review\n",
    "+ **Summary** - brief summary of the review\n",
    "+ **Text** - text of the review"
   ]
  },
  {
   "cell_type": "markdown",
   "metadata": {},
   "source": [
    "# [PT] Aprimorando o dataset\n",
    "A primeira coisa que precisamos fazer é aprimorar o nosso dataset para facilitar nossa vida.\n",
    "Vamos usar a versão `csv` do dataset, que tem os seguintes índices:\n",
    "+ **Id**\n",
    "+ **ProductId** - idetificador único do produto\n",
    "+ **UserId** - identificador único do usuário\n",
    "+ **ProfileName**\n",
    "+ **HelpfulnessNumerator** - número de usuários que acharam essa review útil\n",
    "+ **HelpfulnessDenominator** - número de usuários que indicaram se acahram essa revisão útil\n",
    "+ **Score** - avaliação de 1 a 5\n",
    "+ **Time** - timestamp da review\n",
    "+ **Summary** - breve resumo da revisão\n",
    "+ **Text** - texto da revisão"
   ]
  },
  {
   "cell_type": "markdown",
   "metadata": {},
   "source": [
    "## [EN] Removing unnecessary data\n",
    "The first step is remove unnecessary data. The things that we consider irrelevant to our model.\n",
    "\n",
    "We'll remove the following fields: `Id, UserId, ProfileName, HelpfulnessNumerator, HelpfulnessDenominator, Time`.\n",
    "\n",
    "All we'll consider relevant here is: `ProductId, Score, Summary, Text`"
   ]
  },
  {
   "cell_type": "markdown",
   "metadata": {},
   "source": [
    "## [PT] Removendo dados desnecessários\n",
    "O primeiro passo é remover os dados desnecessários. As coisas que achamos irrelevantes para o nosso modelo.\n",
    "\n",
    "Vamos remover os seguintes campos: `Id, UserId, ProfileName, HelpfulnessNumerator, HelpfulnessDenominator, Time`. \n",
    "\n",
    "Só consideraremos relevante: `ProductId, Score, Summary, Text`"
   ]
  },
  {
   "cell_type": "code",
   "execution_count": 1,
   "metadata": {
    "collapsed": true
   },
   "outputs": [],
   "source": [
    "import pandas as pd\n",
    "\n",
    "dataset = pd.read_csv('./Reviews.csv', usecols=['ProductId', 'Score', 'Summary', 'Text'], dtype='unicode')"
   ]
  },
  {
   "cell_type": "code",
   "execution_count": 2,
   "metadata": {},
   "outputs": [
    {
     "data": {
      "text/html": [
       "<div>\n",
       "<style>\n",
       "    .dataframe thead tr:only-child th {\n",
       "        text-align: right;\n",
       "    }\n",
       "\n",
       "    .dataframe thead th {\n",
       "        text-align: left;\n",
       "    }\n",
       "\n",
       "    .dataframe tbody tr th {\n",
       "        vertical-align: top;\n",
       "    }\n",
       "</style>\n",
       "<table border=\"1\" class=\"dataframe\">\n",
       "  <thead>\n",
       "    <tr style=\"text-align: right;\">\n",
       "      <th></th>\n",
       "      <th>ProductId</th>\n",
       "      <th>Score</th>\n",
       "      <th>Summary</th>\n",
       "      <th>Text</th>\n",
       "    </tr>\n",
       "  </thead>\n",
       "  <tbody>\n",
       "    <tr>\n",
       "      <th>0</th>\n",
       "      <td>B001E4KFG0</td>\n",
       "      <td>5</td>\n",
       "      <td>Good Quality Dog Food</td>\n",
       "      <td>I have bought several of the Vitality canned d...</td>\n",
       "    </tr>\n",
       "    <tr>\n",
       "      <th>1</th>\n",
       "      <td>B00813GRG4</td>\n",
       "      <td>1</td>\n",
       "      <td>Not as Advertised</td>\n",
       "      <td>Product arrived labeled as Jumbo Salted Peanut...</td>\n",
       "    </tr>\n",
       "    <tr>\n",
       "      <th>2</th>\n",
       "      <td>B000LQOCH0</td>\n",
       "      <td>4</td>\n",
       "      <td>\"Delight\" says it all</td>\n",
       "      <td>This is a confection that has been around a fe...</td>\n",
       "    </tr>\n",
       "    <tr>\n",
       "      <th>3</th>\n",
       "      <td>B000UA0QIQ</td>\n",
       "      <td>2</td>\n",
       "      <td>Cough Medicine</td>\n",
       "      <td>If you are looking for the secret ingredient i...</td>\n",
       "    </tr>\n",
       "    <tr>\n",
       "      <th>4</th>\n",
       "      <td>B006K2ZZ7K</td>\n",
       "      <td>5</td>\n",
       "      <td>Great taffy</td>\n",
       "      <td>Great taffy at a great price.  There was a wid...</td>\n",
       "    </tr>\n",
       "  </tbody>\n",
       "</table>\n",
       "</div>"
      ],
      "text/plain": [
       "    ProductId Score                Summary  \\\n",
       "0  B001E4KFG0     5  Good Quality Dog Food   \n",
       "1  B00813GRG4     1      Not as Advertised   \n",
       "2  B000LQOCH0     4  \"Delight\" says it all   \n",
       "3  B000UA0QIQ     2         Cough Medicine   \n",
       "4  B006K2ZZ7K     5            Great taffy   \n",
       "\n",
       "                                                Text  \n",
       "0  I have bought several of the Vitality canned d...  \n",
       "1  Product arrived labeled as Jumbo Salted Peanut...  \n",
       "2  This is a confection that has been around a fe...  \n",
       "3  If you are looking for the secret ingredient i...  \n",
       "4  Great taffy at a great price.  There was a wid...  "
      ]
     },
     "execution_count": 2,
     "metadata": {},
     "output_type": "execute_result"
    }
   ],
   "source": [
    "dataset.head()"
   ]
  },
  {
   "cell_type": "markdown",
   "metadata": {},
   "source": [
    "## [EN] Separating the data\n",
    "Let's separate our data into specific variables to use in our model."
   ]
  },
  {
   "cell_type": "markdown",
   "metadata": {},
   "source": [
    "## [PT] Separando os dados\n",
    "Vamos separar os dados em variáveis específicas para usar no nosso modelo."
   ]
  },
  {
   "cell_type": "code",
   "execution_count": 3,
   "metadata": {
    "collapsed": true
   },
   "outputs": [],
   "source": [
    "products = dataset['ProductId']\n",
    "scores = dataset['Score']\n",
    "summaries = dataset['Summary']\n",
    "texts = dataset['Text']"
   ]
  },
  {
   "cell_type": "markdown",
   "metadata": {},
   "source": [
    "## [EN] Creating the reviews array\n",
    "We'll concat all reviews summaries and texts to use their both as the same text on the analysis"
   ]
  },
  {
   "cell_type": "markdown",
   "metadata": {},
   "source": [
    "## [PT] Criando o array de reviews\n",
    "Vamos concatenar os resumos e textos das revisões para usarmos como um mesmo texto durante a análise"
   ]
  },
  {
   "cell_type": "code",
   "execution_count": 4,
   "metadata": {
    "collapsed": true
   },
   "outputs": [],
   "source": [
    "import numpy as np\n",
    "import re\n",
    "#[EN] Using the string '--' as our separator (just for visualization)\n",
    "#[PT] Usamos a string '--' como separador (apenas para visualização)\n",
    "reviews = summaries + ' -- ' + texts\n",
    "reviews = reviews.replace(np.nan, '', regex=True)\n",
    "\n",
    "TAG_RE = re.compile(r'<[^>]+>')\n",
    "\n",
    "def remove_tags(text):\n",
    "    return TAG_RE.sub('', text)\n",
    "\n",
    "for i in range(len(reviews)):\n",
    "    reviews[i] = remove_tags(reviews[i])"
   ]
  },
  {
   "cell_type": "code",
   "execution_count": 5,
   "metadata": {},
   "outputs": [
    {
     "data": {
      "text/plain": [
       "'Good Quality Dog Food -- I have bought several of the Vitality canned dog food products and have found them all to be of good quality. The product looks more like a stew than a processed meat and it smells better. My Labrador is finicky and she appreciates this product better than  most.'"
      ]
     },
     "execution_count": 5,
     "metadata": {},
     "output_type": "execute_result"
    }
   ],
   "source": [
    "reviews[0]"
   ]
  },
  {
   "cell_type": "code",
   "execution_count": 6,
   "metadata": {},
   "outputs": [
    {
     "data": {
      "text/plain": [
       "5"
      ]
     },
     "execution_count": 6,
     "metadata": {},
     "output_type": "execute_result"
    }
   ],
   "source": [
    "int(scores[0]) #First review score"
   ]
  },
  {
   "cell_type": "code",
   "execution_count": 7,
   "metadata": {},
   "outputs": [
    {
     "data": {
      "text/plain": [
       "568454"
      ]
     },
     "execution_count": 7,
     "metadata": {},
     "output_type": "execute_result"
    }
   ],
   "source": [
    "len(reviews) #Number of reviews"
   ]
  },
  {
   "cell_type": "markdown",
   "metadata": {},
   "source": [
    "# [EN] Some visualizations of our data\n",
    "Let's plot some charts about our data"
   ]
  },
  {
   "cell_type": "markdown",
   "metadata": {},
   "source": [
    "# [PT] Algumas visualizações dos nossos dados\n",
    "Vamos criar alguns gráficos sobre nossos dados"
   ]
  },
  {
   "cell_type": "code",
   "execution_count": 8,
   "metadata": {},
   "outputs": [
    {
     "data": {
      "image/png": "[encoded data removed]",
      "text/plain": [
       "<matplotlib.figure.Figure at 0x7f663c6d7a90>"
      ]
     },
     "metadata": {
      "image/png": {
       "height": 290,
       "width": 409
      }
     },
     "output_type": "display_data"
    }
   ],
   "source": [
    "%config InlineBackend.figure_format = 'retina'\n",
    "%matplotlib inline\n",
    "#[EN] We'll plot a chart with the relation products x score\n",
    "#[PT] Vamos criar um gráfico com a relação número de produtos x score\n",
    "import numpy as np\n",
    "import matplotlib.pyplot as plt\n",
    "from collections import Counter\n",
    "\n",
    "#[EN] Variable to count number of products to each score\n",
    "#[PT] Variável para contar o número de produtos para cada score\n",
    "scores_counter = Counter()\n",
    "\n",
    "for i in range(len(reviews)):\n",
    "    scores_counter[scores[i]] += 1\n",
    "\n",
    "#[EN] Sorting the counter\n",
    "#[PT] Ordenando o contador\n",
    "sorted_counter = sorted(scores_counter.items())\n",
    "\n",
    "#[EN] Get indexes and values\n",
    "#[PT] Obetendo índices e valores\n",
    "scores_index, scores_count = zip(*sorted_counter)\n",
    "\n",
    "indexes = np.arange(len(scores_index))\n",
    "\n",
    "#[EN] Creating chart head\n",
    "#[PT] Criando cabeçalho do gráfico\n",
    "fig = plt.figure()\n",
    "fig.suptitle('Products x Score', fontsize=14, fontweight='bold')\n",
    "\n",
    "ax = fig.add_subplot(111)\n",
    "\n",
    "#[EN] Adding labels\n",
    "#[PT] Adicionando legendas\n",
    "ax.set_ylabel('Products')\n",
    "ax.set_xlabel('Scores')\n",
    "\n",
    "#[EN] Creating the chart bars\n",
    "#[PT] Criando as barras do  gráfico\n",
    "ax.bar(indexes, scores_count, align='center')\n",
    "\n",
    "#[EN] Creating X axis\n",
    "#[PT] Criando eixo X\n",
    "plt.xticks(indexes, scores_index)\n",
    "\n",
    "#[EN] Printing the chart\n",
    "#[PT] Imprimindo gráfico\n",
    "plt.show()"
   ]
  },
  {
   "cell_type": "code",
   "execution_count": 9,
   "metadata": {},
   "outputs": [
    {
     "data": {
      "text/plain": [
       "443777"
      ]
     },
     "execution_count": 9,
     "metadata": {},
     "output_type": "execute_result"
    }
   ],
   "source": [
    "scores_counter['4'] + scores_counter['5']"
   ]
  },
  {
   "cell_type": "code",
   "execution_count": 10,
   "metadata": {},
   "outputs": [
    {
     "data": {
      "text/plain": [
       "124677"
      ]
     },
     "execution_count": 10,
     "metadata": {},
     "output_type": "execute_result"
    }
   ],
   "source": [
    "scores_counter['1'] + scores_counter['2'] + scores_counter ['3']"
   ]
  },
  {
   "cell_type": "markdown",
   "metadata": {},
   "source": [
    "# [EN] Converting scores\n",
    "Now we know a few things about our scores:\n",
    "+ Most of our products have scores greater than or equal 4\n",
    "+ The sum of scores between 1-3 is less than the 4-5 sum\n",
    "\n",
    "Let's convert our scores in labels to help our Network training. We can consider scores 4 and 5 as `POSITIVE` reviews and scores below 4 as `NEGATIVE` ones."
   ]
  },
  {
   "cell_type": "markdown",
   "metadata": {},
   "source": [
    "# [PT] Convertendo avaliações\n",
    "Agora sabemos algumas coisas sobre nossas avaliações:\n",
    "+ A maior parte dos nossos produtos tem avaliação maior ou igual a 4\n",
    "+ A soma das avliações entre 1 e 3 é menor que a soma entre 4 e 5\n",
    "\n",
    "Vamos converter nossas avaliações em labels para facilitar o treinamento da nossa rede neural. Podemos considerar 4 e 5 como reviews `POSITIVE` e avaliações abaixo de 4 como `NEGATIVE`."
   ]
  },
  {
   "cell_type": "code",
   "execution_count": 11,
   "metadata": {},
   "outputs": [
    {
     "name": "stdout",
     "output_type": "stream",
     "text": [
      "Index\tScore\tLabel\n",
      "0\t5\tPOSITIVE\n",
      "1\t1\tNEGATIVE\n",
      "2\t4\tPOSITIVE\n",
      "3\t2\tNEGATIVE\n",
      "4\t5\tPOSITIVE\n"
     ]
    }
   ],
   "source": [
    "import pandas as pd\n",
    "\n",
    "#[EN] Creating a copy of our scores array\n",
    "#[PT] Criando uma cópia do nosso array de avaliações\n",
    "labels = pd.Series.copy(scores)\n",
    "\n",
    "for i in range(len(scores)):\n",
    "    if(int(scores[i]) >= 4):\n",
    "        labels[i] = 'POSITIVE'\n",
    "    else:\n",
    "        labels[i] = 'NEGATIVE'\n",
    "\n",
    "print('Index\\tScore\\tLabel')\n",
    "for i in range(0, 5):\n",
    "    print(str(i) + '\\t' + scores[i] + '\\t'+ labels[i])"
   ]
  },
  {
   "cell_type": "code",
   "execution_count": 12,
   "metadata": {},
   "outputs": [
    {
     "name": "stdout",
     "output_type": "stream",
     "text": [
      "POSITIVE\t:\tGood Quality Dog Food -- I have bought several of the Vitality canned dog food p...\n",
      "NEGATIVE\t:\tNot as Advertised -- Product arrived labeled as Jumbo Salted Peanuts...the peanu...\n",
      "POSITIVE\t:\t\"Delight\" says it all -- This is a confection that has been around a few centuri...\n",
      "NEGATIVE\t:\tCough Medicine -- If you are looking for the secret ingredient in Robitussin I b...\n",
      "POSITIVE\t:\tGreat taffy -- Great taffy at a great price.  There was a wide assortment of yum...\n"
     ]
    }
   ],
   "source": [
    "def pretty_print_review_and_label(index):\n",
    "    print(labels[i] + '\\t:\\t' + reviews[i][:80] + '...')\n",
    "\n",
    "for i in range(0, 5):\n",
    "    pretty_print_review_and_label(i)"
   ]
  },
  {
   "cell_type": "markdown",
   "metadata": {},
   "source": [
    "# [EN] Quick Validation\n",
    "Let's do a quick validation of our theory: If a review is positive, so more positive words will be present on it's text, the same applies to negative ones."
   ]
  },
  {
   "cell_type": "markdown",
   "metadata": {},
   "source": [
    "# [PT] Validação rápida\n",
    "Vamos fazer uma validação rápida da nossa teoria: Se uma avaliação foi positiva, logo teremos mais palavras positivas, o mesmo vale para as negativas."
   ]
  },
  {
   "cell_type": "code",
   "execution_count": 13,
   "metadata": {
    "collapsed": true
   },
   "outputs": [],
   "source": [
    "from collections import Counter\n",
    "import numpy as np\n",
    "\n",
    "#[EN] Creating our word counters\n",
    "#[PT] Criando nossos contadores de palavras\n",
    "positive_counts = Counter()\n",
    "negative_counts = Counter()\n",
    "total_counts = Counter()\n",
    "\n",
    "for i in range(len(reviews)):\n",
    "    if(labels[i] == 'POSITIVE'):\n",
    "        for word in reviews[i].split(' '):\n",
    "            positive_counts[word] += 1\n",
    "            total_counts[word] += 1\n",
    "    else:\n",
    "        for word in reviews[i].split(' '):\n",
    "            negative_counts[word] += 1\n",
    "            total_counts[word] += 1"
   ]
  },
  {
   "cell_type": "code",
   "execution_count": 14,
   "metadata": {},
   "outputs": [
    {
     "data": {
      "text/plain": [
       "[('the', 1211164),\n",
       " ('I', 1038460),\n",
       " ('and', 992559),\n",
       " ('a', 919799),\n",
       " ('', 763012),\n",
       " ('to', 760094),\n",
       " ('of', 597088),\n",
       " ('is', 568398),\n",
       " ('it', 476109),\n",
       " ('--', 456057),\n",
       " ('for', 437613),\n",
       " ('in', 401110),\n",
       " ('this', 371328),\n",
       " ('my', 293784),\n",
       " ('that', 292479),\n",
       " ('with', 268300),\n",
       " ('have', 262733),\n",
       " ('are', 252831),\n",
       " ('but', 238561),\n",
       " ('you', 224165),\n",
       " ('was', 201409),\n",
       " ('on', 200883),\n",
       " ('as', 197416),\n",
       " ('not', 189149),\n",
       " ('like', 176807)]"
      ]
     },
     "execution_count": 14,
     "metadata": {},
     "output_type": "execute_result"
    }
   ],
   "source": [
    "list(positive_counts.most_common())[0:25]"
   ]
  },
  {
   "cell_type": "markdown",
   "metadata": {},
   "source": [
    "## [EN] Refining our counters\n",
    "As we can see above, the most common words can help us validate our theory, but these words are generic and don't have relation with emotion, or with the labels `POSITIVE` and `NEGATIVE`.\n",
    "\n",
    "So, let's refine this counters, creating a ratio and eliminating this generic words."
   ]
  },
  {
   "cell_type": "markdown",
   "metadata": {},
   "source": [
    "## [PT] Refinando nossos contadores\n",
    "Como podemos ver acima, as palavras que mais se repetem podem nos ajudar a provar nossa teoria, mas estas palavras são genéricas e não tem relação com emoção ou com as labels `POSITIVE` e `NEGATIVE`.\n",
    "\n",
    "Vamos então refinar estes contadores criando um raio e eliminando as palavras genéricas"
   ]
  },
  {
   "cell_type": "code",
   "execution_count": 15,
   "metadata": {
    "collapsed": true
   },
   "outputs": [],
   "source": [
    "from collections import Counter\n",
    "import numpy as np\n",
    "\n",
    "def calc_pos_neg_ratios(min_cnt):\n",
    "    pos_neg_ratios = Counter()\n",
    "\n",
    "    for term, cnt in list(total_counts.most_common()):\n",
    "        if(cnt > min_cnt):\n",
    "            pos_neg_ratio = positive_counts[term] / float(negative_counts[term] + 1)\n",
    "            pos_neg_ratios[term] = pos_neg_ratio\n",
    "    \n",
    "    for word, ratio in pos_neg_ratios.most_common():\n",
    "        if(ratio > 1):\n",
    "            pos_neg_ratios[word] = np.log(ratio)\n",
    "        else:\n",
    "            pos_neg_ratios[word] = -np.log((1 / (ratio + 0.01)))\n",
    "    \n",
    "    return pos_neg_ratios"
   ]
  },
  {
   "cell_type": "code",
   "execution_count": 30,
   "metadata": {},
   "outputs": [
    {
     "data": {
      "text/plain": [
       "[('Fantastic!', 6.1202974189509503),\n",
       " ('Perfect!', 6.0707377280024897),\n",
       " ('\"Vegan', 5.8888779583328805),\n",
       " ('Delicious!!', 5.7333412768977459),\n",
       " ('Excellent!', 5.6442683471237931),\n",
       " ('Delicious!', 5.5672533961787627),\n",
       " ('Yummy!', 5.3985739702876874),\n",
       " ('Awesome!', 5.3242287483325379),\n",
       " ('YUM', 5.1845886012196933),\n",
       " ('anytime.', 5.181783550292085),\n",
       " ('addictive!', 4.9972122737641147),\n",
       " ('Addictive', 4.9487598903781684),\n",
       " ('Amazing!', 4.9416424226093039),\n",
       " ('Wonderful!', 4.8402423081675749),\n",
       " ('Stuff!', 4.7916497529307094),\n",
       " ('Yum!', 4.7757564865636253),\n",
       " ('Superb', 4.7449321283632502),\n",
       " ('favorites!', 4.7214706416842516),\n",
       " ('Booda', 4.6118147287067597),\n",
       " ('YUMMY!', 4.5660827972800444),\n",
       " ('hooked.', 4.5302926870553408),\n",
       " ('Tasty!', 4.5290088250225278),\n",
       " ('favorite!', 4.4021355875965948),\n",
       " ('far!', 4.3489867805956814),\n",
       " ('Wonderful', 4.3435814827641801)]"
      ]
     },
     "execution_count": 30,
     "metadata": {},
     "output_type": "execute_result"
    }
   ],
   "source": [
    "pos_neg_ratios = calc_pos_neg_ratios(300)\n",
    "list(pos_neg_ratios.most_common())[0:25]"
   ]
  },
  {
   "cell_type": "markdown",
   "metadata": {},
   "source": [
    "**[EN]** Well, now we can see the expected result: Positive words frequently in positive reviews and negative words frequently in negative reviews as we can se below:"
   ]
  },
  {
   "cell_type": "markdown",
   "metadata": {},
   "source": [
    "**[PT]** Agora podemos ver o resultado esperado: Palavras positivas com frequência em reviews positivas e palavras negativas com frequência em reviews negativas como podemos ver abaixo:"
   ]
  },
  {
   "cell_type": "code",
   "execution_count": 31,
   "metadata": {},
   "outputs": [
    {
     "data": {
      "text/plain": [
       "[('Disappointing', -3.5089762781842633),\n",
       " ('Terrible', -3.0100291726782182),\n",
       " ('Awful', -3.0080618000647603),\n",
       " ('Horrible', -2.9153950584420132),\n",
       " ('Stale', -2.8168745234792243),\n",
       " ('Yuck!', -2.7704856720430024),\n",
       " ('Worst', -2.7248573194185912),\n",
       " ('Weak', -2.6030203186099024),\n",
       " ('Bland', -2.5900607883942222),\n",
       " ('Misleading', -2.5571662199861542),\n",
       " ('Disappointed', -2.5304867817546723),\n",
       " ('deliberately', -2.5174652359649476),\n",
       " ('deceptive', -2.3929920589848139),\n",
       " ('Buyer', -2.2763586070735378),\n",
       " ('Nasty', -2.0952175042740033),\n",
       " ('intentionally', -1.9093152579796995),\n",
       " ('refund.', -1.8337525612003409),\n",
       " ('Waste', -1.7476711730925014),\n",
       " ('Poor', -1.739808180418392),\n",
       " ('Evo,', -1.6660700285375662),\n",
       " ('Shame', -1.6642568514993177),\n",
       " ('worst', -1.613454118778703),\n",
       " ('disappointing.', -1.6001485542675802),\n",
       " ('horrible.', -1.5595586608122152),\n",
       " ('disappointment.', -1.5504318504530763)]"
      ]
     },
     "execution_count": 31,
     "metadata": {},
     "output_type": "execute_result"
    }
   ],
   "source": [
    "list(reversed(pos_neg_ratios.most_common()))[0:25]"
   ]
  },
  {
   "cell_type": "markdown",
   "metadata": {
    "collapsed": true
   },
   "source": [
    "# [EN] Transforming words into numbers\n",
    "WoW!! Our theory is valid! There is a correlation between positive words and positive reviews, or vice-versa.\n",
    "\n",
    "Now, we need to transform our text into numbers, so that way our Neural Network will be able to learn from data and search for correlation in a better and efficient way."
   ]
  },
  {
   "cell_type": "markdown",
   "metadata": {},
   "source": [
    "# [PT] Transformando palavras em números\n",
    "WoW!! Nossa teoria é válida! Existe uma correlação entre palavras positivas e reviews positivas, ou vice-versa.\n",
    "\n",
    "Agora, precisamos transformar texto em números, desta forma nossa Rede Neural poderá aprender através dos dados e procurar por essas relações de uma maneira melhor e mais eficiente."
   ]
  },
  {
   "cell_type": "markdown",
   "metadata": {},
   "source": [
    "## [EN] Understanding the Neural Network\n",
    "Our network will receive words converted into numbers as signal, and will be make a prediction (positive or negative) based on these words, as we can see in the image below:"
   ]
  },
  {
   "cell_type": "markdown",
   "metadata": {},
   "source": [
    "## [PT] Entendendo a Rede Neural\n",
    "Nossa rede neural irá receber palavras convertidas em números como sinal e fará previsões (positivo ou negativo) baseada nestas palavras, como podemos ver na imagem abaixo:"
   ]
  },
  {
   "cell_type": "code",
   "execution_count": 18,
   "metadata": {},
   "outputs": [
    {
     "data": {
      "image/png": "[encoded data removed]",
      "text/plain": [
       "<IPython.core.display.Image object>"
      ]
     },
     "execution_count": 18,
     "metadata": {},
     "output_type": "execute_result"
    }
   ],
   "source": [
    "from IPython.display import Image\n",
    "\n",
    "review = 'This is a horrible food. Terrible!'\n",
    "\n",
    "Image(filename='sentiment_network.png')"
   ]
  },
  {
   "cell_type": "code",
   "execution_count": 19,
   "metadata": {},
   "outputs": [
    {
     "data": {
      "image/png": "[encoded data removed]",
      "text/plain": [
       "<IPython.core.display.Image object>"
      ]
     },
     "execution_count": 19,
     "metadata": {},
     "output_type": "execute_result"
    }
   ],
   "source": [
    "review = 'I love this food! Its excellent'\n",
    "\n",
    "Image(filename='sentiment_network_pos.png')"
   ]
  },
  {
   "cell_type": "markdown",
   "metadata": {
    "collapsed": true
   },
   "source": [
    "## [EN] Transforming the data\n",
    "Let's start transforming our words into numbers. This method is called `Bag of Words`. We'll just count how many times the word appears on each review. This is easy to do with the `collections.Counter` class."
   ]
  },
  {
   "cell_type": "markdown",
   "metadata": {},
   "source": [
    "## [PT] Transformando os dados\n",
    "Vamos transformar nossas palavras em números. Este método é chamado `Bag of Words`. Nós apenas contaremos quantas vezes a palavra aparece em cada review. Isso é facil de fazer com a classe `collections.Counter`"
   ]
  },
  {
   "cell_type": "code",
   "execution_count": 20,
   "metadata": {},
   "outputs": [
    {
     "name": "stdout",
     "output_type": "stream",
     "text": [
      "713871\n"
     ]
    }
   ],
   "source": [
    "#[EN] Defining our vocabullary and it's size\n",
    "#[PT] Definindo nosso vocabulário e seu tamanho\n",
    "vocab = set(total_counts.keys())\n",
    "vocab_size = len(vocab)\n",
    "\n",
    "print(vocab_size)"
   ]
  },
  {
   "cell_type": "code",
   "execution_count": 23,
   "metadata": {},
   "outputs": [
    {
     "data": {
      "text/plain": [
       "array([[ 0.,  0.,  0., ...,  0.,  0.,  0.]])"
      ]
     },
     "execution_count": 23,
     "metadata": {},
     "output_type": "execute_result"
    }
   ],
   "source": [
    "import numpy as np\n",
    "\n",
    "#[EN] Our input layer will be called layer_0\n",
    "#[PT] Nossa camada de entrada será chamada layer_0\n",
    "layer_0 = np.zeros((1, vocab_size))\n",
    "\n",
    "#[EN] Starting our input layer empty, so we can allocate all needed memory\n",
    "#[PT] Iniciando nossa camada de input vazia, para alocar a memória necessária\n",
    "layer_0"
   ]
  },
  {
   "cell_type": "code",
   "execution_count": 33,
   "metadata": {},
   "outputs": [
    {
     "data": {
      "text/plain": [
       "[('', 0),\n",
       " ('Light.But', 1),\n",
       " ('anymore.Personally', 2),\n",
       " ('desireable.', 3),\n",
       " ('«:::A:::»', 4),\n",
       " (\"satisfying.I'm\", 5),\n",
       " ('Garlic.To', 6),\n",
       " ('recurrence', 7),\n",
       " ('anyproblems', 8),\n",
       " ('meal-bar', 9),\n",
       " ('up.Good', 10),\n",
       " ('[[ASIN:B001E5DYT4', 11),\n",
       " ('---Mightly', 12),\n",
       " ('PACKAGE.', 13),\n",
       " ('generically', 14),\n",
       " ('Course!)', 15),\n",
       " (\"'Jet\", 16),\n",
       " ('impressed.Arrives', 17),\n",
       " ('things.So', 18),\n",
       " ('Chopped', 19),\n",
       " ('strawberry/cherry...and', 20),\n",
       " ('both.[...]', 21),\n",
       " ('divine.One', 22),\n",
       " ('icky-sweet', 23),\n",
       " ('food.Cesar', 24)]"
      ]
     },
     "execution_count": 33,
     "metadata": {},
     "output_type": "execute_result"
    }
   ],
   "source": [
    "#[EN] Changing our vocab, so the words will be indexes and the count will be values\n",
    "#[PT] Alterando nosso vocabulário, logo palavras serão índices e contadores serão valores\n",
    "word2index = {}\n",
    "for i, word in enumerate(vocab):\n",
    "    word2index[word] = i\n",
    "\n",
    "list(word2index.items())[0:25]"
   ]
  },
  {
   "cell_type": "code",
   "execution_count": 37,
   "metadata": {
    "collapsed": true
   },
   "outputs": [],
   "source": [
    "#[EN] We'll create a function to update our input layer for each review\n",
    "#[PT] Vamos criar uma função para atualizar nossa camada de entrada para cada review\n",
    "def update_input_layer(review):\n",
    "\n",
    "    #[EN] Using the global input layer\n",
    "    #[PT] Usando a camada de entrada global\n",
    "    global layer_0\n",
    "\n",
    "    #[EN] Remove any previous state\n",
    "    #[PT] Removendo qualquer estado anterior\n",
    "    layer_0 *= 0\n",
    "\n",
    "    #[EN] Counting words of the review\n",
    "    #[PT] Contando as palavras do review\n",
    "    for word in review.split(' '):\n",
    "        layer_0[0][word2index[word]] += 1\n",
    "\n",
    "update_input_layer(reviews[0])"
   ]
  },
  {
   "cell_type": "code",
   "execution_count": 38,
   "metadata": {},
   "outputs": [
    {
     "data": {
      "text/plain": [
       "array([[ 1.,  0.,  0., ...,  0.,  0.,  0.]])"
      ]
     },
     "execution_count": 38,
     "metadata": {},
     "output_type": "execute_result"
    }
   ],
   "source": [
    "layer_0"
   ]
  },
  {
   "cell_type": "code",
   "execution_count": 40,
   "metadata": {},
   "outputs": [],
   "source": [
    "#[EN] Convert our labels to 1 or 0 to check our predictions\n",
    "#[PT] Convertendo os labels para 1 ou 0 para validar nossas previsões\n",
    "def get_target_for_label(label):\n",
    "    if(label == 'POSITIVE'):\n",
    "        return 1\n",
    "    else:\n",
    "        return 0"
   ]
  },
  {
   "cell_type": "code",
   "execution_count": 42,
   "metadata": {},
   "outputs": [
    {
     "data": {
      "text/plain": [
       "'POSITIVE'"
      ]
     },
     "execution_count": 42,
     "metadata": {},
     "output_type": "execute_result"
    }
   ],
   "source": [
    "labels[0]"
   ]
  },
  {
   "cell_type": "code",
   "execution_count": 41,
   "metadata": {},
   "outputs": [
    {
     "data": {
      "text/plain": [
       "1"
      ]
     },
     "execution_count": 41,
     "metadata": {},
     "output_type": "execute_result"
    }
   ],
   "source": [
    "get_target_for_label(labels[0])"
   ]
  },
  {
   "cell_type": "markdown",
   "metadata": {},
   "source": [
    "# [EN] Creating our Neural Network\n",
    "Now we have the necessary functions to convert our data into numbers, so let's start building our Neural Network!"
   ]
  },
  {
   "cell_type": "markdown",
   "metadata": {},
   "source": [
    "# [PT] Criando nossa Rede Neural\n",
    "Agora temos as funções necessárias para converter nossos dados em números, então vamos começar a construir nossa Rede Neural!"
   ]
  },
  {
   "cell_type": "code",
   "execution_count": 74,
   "metadata": {},
   "outputs": [],
   "source": [
    "import time\n",
    "import sys\n",
    "import numpy as np\n",
    "\n",
    "\n",
    "class SentimentNetwork(object):\n",
    "    def __init__(self, reviews, labels, hidden_nodes = 10, learning_rate = 0.1):\n",
    "        \n",
    "        #[EN] Set a random number generator (most used for debugging)\n",
    "        #[PT] Criando um gerador de números aleatórios (mais usado para debug)\n",
    "        np.random.seed(1)\n",
    "\n",
    "        #[EN] Pre processing our data\n",
    "        #[PT] Pre processando nossos dados\n",
    "        self.pre_process_data(reviews, labels)\n",
    "        \n",
    "        #[EN] Initializing our network\n",
    "        #[PT] Inicializando nossa rede\n",
    "        self.init_network(len(self.review_vocab), hidden_nodes, 1, learning_rate)\n",
    "                    \n",
    "    def pre_process_data(self, reviews, labels):\n",
    "        \n",
    "        #[EN] Creating our review vocabullary\n",
    "        #[PT] Criando nosso vocabulário de reviews\n",
    "        review_vocab = set()\n",
    "        for review in reviews:\n",
    "            for word in review.split(' '):\n",
    "                review_vocab.add(word)\n",
    "        \n",
    "        self.review_vocab = list(review_vocab)\n",
    "        \n",
    "        #[EN] Creating our label vocabullary\n",
    "        #[PT] Criando nosso vocabulário de labels\n",
    "        label_vocab = set()\n",
    "        for label in labels:\n",
    "            label_vocab.add(label)\n",
    "        \n",
    "        self.label_vocab = list(label_vocab)\n",
    "        \n",
    "        #[EN] Get eh vocabullary sizes\n",
    "        #[PT] Obtendo o tamanho dos vocabulários\n",
    "        self.review_vocab_size = len(self.review_vocab)\n",
    "        self.label_vocab_size = len(self.label_vocab)\n",
    "        \n",
    "        #[EN] Converting words to indexes\n",
    "        #[PT] Convertendo palavras para índices\n",
    "        self.word2index = {}\n",
    "        \n",
    "        for i, word in enumerate(self.review_vocab):\n",
    "            self.word2index[word] = i\n",
    "        \n",
    "        #[EN] Converting labels to indexes\n",
    "        #[PT] Convertendo labels para índices\n",
    "        self.label2index = {}\n",
    "        for i, label in enumerate(self.label_vocab):\n",
    "            self.label2index[label] = i\n",
    "\n",
    "    def init_network(self, input_nodes, hidden_nodes, output_nodes, learning_rate):\n",
    "        \n",
    "        #[EN] Set our layer's nodes\n",
    "        #[PT] Criando nossos nós de camada\n",
    "        self.input_nodes = input_nodes\n",
    "        self.hidden_nodes = hidden_nodes\n",
    "        self.output_nodes = output_nodes\n",
    "        \n",
    "        #[EN] Initialize our weights\n",
    "        #[PT] Inicializando os pesos\n",
    "        self.weights_0_1 = np.zeros((self.input_nodes, self.hidden_nodes)) #input to hidden\n",
    "        self.weights_1_2 = np.random.normal(0.0, self.output_nodes**-0.5,\n",
    "                                            (self.hidden_nodes, self.output_nodes)) #hidden to output\n",
    "        \n",
    "        #[EN] Initialize the learning rate\n",
    "        #[PT] Inicializando taxa de aprendizado\n",
    "        self.learning_rate = learning_rate\n",
    "        \n",
    "        #[EN] Allocate memory for input layer\n",
    "        #[PT] Alocando memória para a  camada de entrada\n",
    "        self.layer_0 = np.zeros((1, input_nodes))\n",
    "\n",
    "    def update_input_layer(self, review):\n",
    "        \n",
    "        #[EN] Clear the previous state\n",
    "        #[PT] Limpando estado anterior\n",
    "        self.layer_0 *= 0\n",
    "        \n",
    "        for word in review.split(' '):\n",
    "            if(word in self.word2index.keys()):\n",
    "                self.layer_0[0][self.word2index[word]] += 1\n",
    "    \n",
    "    def get_target_for_label(self, label):\n",
    "        \n",
    "        #[EN] Convert labels to 1 or 0\n",
    "        #[PT] Convertendo labels para 1 ou 0\n",
    "        if(label == 'POSITIVE'):\n",
    "            return 1\n",
    "        else:\n",
    "            return 0\n",
    "\n",
    "    def sigmoid(self, x):\n",
    "\n",
    "        #[EN] Using sigmoid as activation function\n",
    "        #[PT] Usando sigmoid como função de ativação\n",
    "        return 1 / (1 + np.exp(-x))\n",
    "    \n",
    "    def sigmoid_output_2_derivative(self, output):\n",
    "        \n",
    "        #[EN] Derivative of outputs\n",
    "        #[PT] Derivada das saídas\n",
    "        return output * (1 - output)\n",
    "\n",
    "    def train(self, training_reviews, training_labels):\n",
    "        \n",
    "        #[EN] Checking if reviews and labels have the same length\n",
    "        #[PT] Verificando se reviews e labels tem o mesmo tamanho\n",
    "        assert(len(traning_reviews) == len(traning_labels))\n",
    "        \n",
    "        #[EN] Tracking predictions right or wrong\n",
    "        #[PT] Rastreando previsões certas ou erradas\n",
    "        correct_so_far = 0\n",
    "        \n",
    "        #[EN] The traning start time\n",
    "        #[PT] Horário que o treinamento começou\n",
    "        start = time.time()\n",
    "        \n",
    "        for i in range(len(traning_reviews)):\n",
    "            \n",
    "            #[EN] Starting review and label variables\n",
    "            #[PT] Iniciando as variáveis review e label\n",
    "            review = traning_reviews[i]\n",
    "            label = training_labels[i]\n",
    "            \n",
    "            #### [EN] Forward propagation ####\n",
    "            #### [PT] propagação adiante  ####\n",
    "            \n",
    "            #[EN] Update input layer\n",
    "            #[PT] Atualizando camada de entrada\n",
    "            self.update_input_layer(review)\n",
    "            \n",
    "            #[EN] Hidden layer\n",
    "            #[PT] Camada oculta\n",
    "            layer_1 = self.layer_0.dot(self.weights_0_1)\n",
    "            \n",
    "            #[EN] Output layer\n",
    "            #[PT] Camada de saída\n",
    "            layer_2 = self.sigmoid(layer_1.dot(self.weights_1_2))\n",
    "            \n",
    "            #### [EN] Back propagation   ####\n",
    "            #### [PT] Propagação reversa ####\n",
    "            \n",
    "            #[EN] Output layer errors\n",
    "            #[PT] Erros da camada de saída\n",
    "            layer_2_error = layer_2 - self.get_target_for_label(label)\n",
    "            layer_2_delta = layer_2_error * self.sigmoid_output_2_derivative(layer_2)\n",
    "            \n",
    "            #[EN] Hidden layer errors\n",
    "            #[PT] Erros da camada oculta\n",
    "            layer_1_error = layer_2_delta.dot(self.weights_1_2.T)\n",
    "            layer_1_delta = layer_1_error\n",
    "            \n",
    "            #[EN] Updating weights\n",
    "            #[PT] Atualizando pesos\n",
    "            self.weights_1_2 -= layer_1.T.dot(layer_2_delta) * self.learning_rate\n",
    "            self.weights_0_1 -= self.layer_0.T.dot(layer_1_delta) * self.learning_rate\n",
    "            \n",
    "            #[EN] Updating the correct_so_far based on layer 2 errors\n",
    "            #[PT] Atualizando correct_so_far baseado nos erros da camada 2\n",
    "            if(np.abs(layer_2_error) < 0.5):\n",
    "                correct_so_far += 1\n",
    "            \n",
    "            #[EN] Counting reviews per second\n",
    "            #[PT] Contando reviews por segundo\n",
    "            reviews_per_second = i / float(time.time() - start)\n",
    "            \n",
    "            #[EN] Logging our progress\n",
    "            #[PT] Logando nosso progresso\n",
    "            sys.stdout.write(\"\\rProgress:\" + str(100 * i/float(len(training_reviews)))[:4] \\\n",
    "                             + \"% Speed(reviews/sec):\" + str(reviews_per_second)[0:5] \\\n",
    "                             + \" #Correct:\" + str(correct_so_far) + \" #Trained:\" + str(i+1) \\\n",
    "                             + \" Training Accuracy:\" + str(correct_so_far * 100 / float(i+1))[:4] + \"%\")\n",
    "        print('')\n",
    "        \n",
    "    def test(self, testing_reviews, testing_labels):\n",
    "        \n",
    "        correct = 0\n",
    "        \n",
    "        start = time.time()\n",
    "        \n",
    "        for i in range(len(testing_reviews)):\n",
    "            pred = self.run(testing_reviews[i])\n",
    "            if(pred == testing_labels[i]):\n",
    "                correct += 1\n",
    "            \n",
    "            reviews_per_second = i / float(time.time() - start)\n",
    "            \n",
    "            sys.stdout.write(\"\\rProgress:\" + str(100 * i/float(len(testing_reviews)))[:4] \\\n",
    "                             + \"% Speed(reviews/sec):\" + str(reviews_per_second)[0:5] \\\n",
    "                             + \" #Correct:\" + str(correct) + \" #Tested:\" + str(i+1) \\\n",
    "                             + \" Testing Accuracy:\" + str(correct * 100 / float(i+1))[:4] + \"%\")\n",
    "    \n",
    "    def run(self, review):\n",
    "        \n",
    "        #[EN]Input Layer\n",
    "        #[PT] Camada de entrada\n",
    "        self.update_input_layer(review.lower())\n",
    "\n",
    "        #[EN] Hidden layer\n",
    "        #[PT] Camada oculta\n",
    "        layer_1 = self.layer_0.dot(self.weights_0_1)\n",
    "\n",
    "        #[EN] Output layer\n",
    "        #[PT] Camada de saída\n",
    "        layer_2 = self.sigmoid(layer_1.dot(self.weights_1_2))\n",
    "        \n",
    "        if(layer_2[0] > 0.5):\n",
    "            return \"POSITIVE\"\n",
    "        else:\n",
    "            return \"NEGATIVE\"\n",
    "        "
   ]
  },
  {
   "cell_type": "code",
   "execution_count": 75,
   "metadata": {},
   "outputs": [],
   "source": [
    "#[EN] Traning data\n",
    "#[PT] Dados de treinamento\n",
    "training_reviews = np.array(reviews.iloc[:-1000])\n",
    "training_labels = np.array(labels.iloc[:-1000])\n",
    "\n",
    "#[EN] Testing data\n",
    "#[PT] Dados de teste\n",
    "testing_reviews = np.array(reviews.iloc[-1000:])\n",
    "testing_labels = np.array(labels.iloc[-1000:])\n",
    "\n",
    "#[EN] Initialize network\n",
    "#[PT] Initialize network\n",
    "msn = SentimentNetwork(training_reviews, training_labels, learning_rate = 0.1)"
   ]
  },
  {
   "cell_type": "code",
   "execution_count": 76,
   "metadata": {},
   "outputs": [
    {
     "name": "stdout",
     "output_type": "stream",
     "text": [
      "Progress:99.9% Speed(reviews/sec):264.4 #Correct:280 #Tested:1000 Testing Accuracy:28.0%"
     ]
    }
   ],
   "source": [
    "msn.test(testing_reviews, testing_labels)"
   ]
  },
  {
   "cell_type": "code",
   "execution_count": null,
   "metadata": {
    "collapsed": true
   },
   "outputs": [],
   "source": []
  }
 ],
 "metadata": {
  "kernelspec": {
   "display_name": "Python 3",
   "language": "python",
   "name": "python3"
  },
  "language_info": {
   "codemirror_mode": {
    "name": "ipython",
    "version": 3
   },
   "file_extension": ".py",
   "mimetype": "text/x-python",
   "name": "python",
   "nbconvert_exporter": "python",
   "pygments_lexer": "ipython3",
   "version": "3.6.1"
  }
 },
 "nbformat": 4,
 "nbformat_minor": 2
}
